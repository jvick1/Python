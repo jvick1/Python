{
 "cells": [
  {
   "cell_type": "code",
   "execution_count": 5,
   "id": "6372a863-b391-4065-89a3-9fafc456fd28",
   "metadata": {},
   "outputs": [],
   "source": [
    "import numpy as np"
   ]
  },
  {
   "cell_type": "code",
   "execution_count": 7,
   "id": "c0bb2507-5057-46a7-8707-358558c979ab",
   "metadata": {},
   "outputs": [
    {
     "name": "stdout",
     "output_type": "stream",
     "text": [
      "[1 2 3 4 5]\n"
     ]
    }
   ],
   "source": [
    "# Creating a 1-dimensional array\n",
    "arr = np.array([1, 2, 3, 4, 5])\n",
    "print(arr)  # Output: [1 2 3 4 5]"
   ]
  },
  {
   "cell_type": "code",
   "execution_count": 17,
   "id": "6e864efd-37ae-47ce-bd3d-545459c05ec1",
   "metadata": {},
   "outputs": [
    {
     "data": {
      "text/plain": [
       "array([ 0,  1,  2,  3,  4,  5,  6,  7,  8,  9, 10])"
      ]
     },
     "execution_count": 17,
     "metadata": {},
     "output_type": "execute_result"
    }
   ],
   "source": [
    "# arange() function\n",
    "np.arange(0,11)"
   ]
  },
  {
   "cell_type": "code",
   "execution_count": 19,
   "id": "54a7518a-da88-4087-8a69-68c9ae48eea8",
   "metadata": {},
   "outputs": [
    {
     "data": {
      "text/plain": [
       "array([ 0,  2,  4,  6,  8, 10])"
      ]
     },
     "execution_count": 19,
     "metadata": {},
     "output_type": "execute_result"
    }
   ],
   "source": [
    "# arange() function & stepsize\n",
    "np.arange(0,11,2)"
   ]
  },
  {
   "cell_type": "code",
   "execution_count": 9,
   "id": "ade1f736-4b73-4bd4-b5b4-b95899174c04",
   "metadata": {},
   "outputs": [
    {
     "name": "stdout",
     "output_type": "stream",
     "text": [
      "[[1 2 3]\n",
      " [4 5 6]]\n"
     ]
    }
   ],
   "source": [
    "# Creating a 2-dimensional array\n",
    "matrix = np.array([[1, 2, 3], [4, 5, 6]])\n",
    "print(matrix)\n",
    "# Output:\n",
    "# [[1 2 3]\n",
    "#  [4 5 6]]"
   ]
  },
  {
   "cell_type": "code",
   "execution_count": 11,
   "id": "770927b0-bb1e-472e-baf0-96cbe373afe5",
   "metadata": {},
   "outputs": [
    {
     "name": "stdout",
     "output_type": "stream",
     "text": [
      "[ 6  7  8  9 10]\n"
     ]
    }
   ],
   "source": [
    "# Performing arithmetic operations\n",
    "arr = np.array([1, 2, 3, 4, 5])\n",
    "print(arr + 5)  # Output: [ 6  7  8  9 10]"
   ]
  },
  {
   "cell_type": "code",
   "execution_count": 13,
   "id": "54fc3045-a551-4942-b206-c05aec1d5bb7",
   "metadata": {},
   "outputs": [
    {
     "name": "stdout",
     "output_type": "stream",
     "text": [
      "3.0\n",
      "1.4142135623730951\n"
     ]
    }
   ],
   "source": [
    "# Using mathematical functions\n",
    "arr = np.array([1, 2, 3, 4, 5])\n",
    "print(np.mean(arr))  # Output: 3.0\n",
    "print(np.std(arr))   # Output: 1.4142135623730951"
   ]
  },
  {
   "cell_type": "code",
   "execution_count": 15,
   "id": "429eb065-5d2b-48d3-9355-48cfa7c7e33c",
   "metadata": {},
   "outputs": [
    {
     "name": "stdout",
     "output_type": "stream",
     "text": [
      "[[2 3 4]\n",
      " [3 4 5]\n",
      " [4 5 6]]\n"
     ]
    }
   ],
   "source": [
    "# Broadcasting example\n",
    "arr1 = np.array([1, 2, 3])\n",
    "arr2 = np.array([[1], [2], [3]])\n",
    "print(arr1 + arr2)\n",
    "# Output:\n",
    "# [[2 3 4]\n",
    "#  [3 4 5]\n",
    "#  [4 5 6]]"
   ]
  },
  {
   "cell_type": "code",
   "execution_count": 21,
   "id": "332f85dc-01d1-4111-97ce-cda09e4a1c61",
   "metadata": {},
   "outputs": [
    {
     "data": {
      "text/plain": [
       "array([[0., 0., 0.],\n",
       "       [0., 0., 0.],\n",
       "       [0., 0., 0.],\n",
       "       [0., 0., 0.],\n",
       "       [0., 0., 0.]])"
      ]
     },
     "execution_count": 21,
     "metadata": {},
     "output_type": "execute_result"
    }
   ],
   "source": [
    "np.zeros((5,3))"
   ]
  },
  {
   "cell_type": "code",
   "execution_count": 23,
   "id": "487854a5-cd5f-42fe-85e2-957b5d48ccad",
   "metadata": {},
   "outputs": [
    {
     "data": {
      "text/plain": [
       "array([0.        , 0.05050505, 0.1010101 , 0.15151515, 0.2020202 ,\n",
       "       0.25252525, 0.3030303 , 0.35353535, 0.4040404 , 0.45454545,\n",
       "       0.50505051, 0.55555556, 0.60606061, 0.65656566, 0.70707071,\n",
       "       0.75757576, 0.80808081, 0.85858586, 0.90909091, 0.95959596,\n",
       "       1.01010101, 1.06060606, 1.11111111, 1.16161616, 1.21212121,\n",
       "       1.26262626, 1.31313131, 1.36363636, 1.41414141, 1.46464646,\n",
       "       1.51515152, 1.56565657, 1.61616162, 1.66666667, 1.71717172,\n",
       "       1.76767677, 1.81818182, 1.86868687, 1.91919192, 1.96969697,\n",
       "       2.02020202, 2.07070707, 2.12121212, 2.17171717, 2.22222222,\n",
       "       2.27272727, 2.32323232, 2.37373737, 2.42424242, 2.47474747,\n",
       "       2.52525253, 2.57575758, 2.62626263, 2.67676768, 2.72727273,\n",
       "       2.77777778, 2.82828283, 2.87878788, 2.92929293, 2.97979798,\n",
       "       3.03030303, 3.08080808, 3.13131313, 3.18181818, 3.23232323,\n",
       "       3.28282828, 3.33333333, 3.38383838, 3.43434343, 3.48484848,\n",
       "       3.53535354, 3.58585859, 3.63636364, 3.68686869, 3.73737374,\n",
       "       3.78787879, 3.83838384, 3.88888889, 3.93939394, 3.98989899,\n",
       "       4.04040404, 4.09090909, 4.14141414, 4.19191919, 4.24242424,\n",
       "       4.29292929, 4.34343434, 4.39393939, 4.44444444, 4.49494949,\n",
       "       4.54545455, 4.5959596 , 4.64646465, 4.6969697 , 4.74747475,\n",
       "       4.7979798 , 4.84848485, 4.8989899 , 4.94949495, 5.        ])"
      ]
     },
     "execution_count": 23,
     "metadata": {},
     "output_type": "execute_result"
    }
   ],
   "source": [
    "np.linspace(0,5,100)"
   ]
  },
  {
   "cell_type": "code",
   "execution_count": 25,
   "id": "1311ff28-0da2-4c67-b5c7-365dbec9dc1f",
   "metadata": {},
   "outputs": [
    {
     "data": {
      "text/plain": [
       "array([[1., 0., 0., 0.],\n",
       "       [0., 1., 0., 0.],\n",
       "       [0., 0., 1., 0.],\n",
       "       [0., 0., 0., 1.]])"
      ]
     },
     "execution_count": 25,
     "metadata": {},
     "output_type": "execute_result"
    }
   ],
   "source": [
    "np.eye(4)"
   ]
  },
  {
   "cell_type": "code",
   "execution_count": 27,
   "id": "8409fbee-420c-4539-846e-9978ae031e81",
   "metadata": {},
   "outputs": [
    {
     "data": {
      "text/plain": [
       "array([0.74124721, 0.78901521, 0.80596383, 0.71768545, 0.38160527])"
      ]
     },
     "execution_count": 27,
     "metadata": {},
     "output_type": "execute_result"
    }
   ],
   "source": [
    "# rand\n",
    "np.random.rand(5)"
   ]
  },
  {
   "cell_type": "code",
   "execution_count": 29,
   "id": "d411460e-ceb9-4f33-b83f-a8c1d5a3e807",
   "metadata": {},
   "outputs": [
    {
     "data": {
      "text/plain": [
       "array([[0.96769559, 0.82211313, 0.25194822, 0.2855468 , 0.96817071],\n",
       "       [0.41400128, 0.75594797, 0.6325596 , 0.6727347 , 0.76962515],\n",
       "       [0.05619813, 0.91093557, 0.54334933, 0.97732623, 0.01264014],\n",
       "       [0.89072372, 0.60249073, 0.45393256, 0.35308948, 0.08949345],\n",
       "       [0.62401228, 0.76079457, 0.51047594, 0.05130869, 0.31374597]])"
      ]
     },
     "execution_count": 29,
     "metadata": {},
     "output_type": "execute_result"
    }
   ],
   "source": [
    "np.random.rand(5,5)"
   ]
  },
  {
   "cell_type": "code",
   "execution_count": 33,
   "id": "12b7caaf-e95a-426a-8552-bb58fda27f0d",
   "metadata": {},
   "outputs": [
    {
     "data": {
      "text/plain": [
       "array([-0.25482237,  0.40481339])"
      ]
     },
     "execution_count": 33,
     "metadata": {},
     "output_type": "execute_result"
    }
   ],
   "source": [
    "# standard dist\n",
    "np.random.randn(2)"
   ]
  },
  {
   "cell_type": "code",
   "execution_count": 39,
   "id": "0ed2ae75-5633-4986-8772-4f6b2f2bdda0",
   "metadata": {},
   "outputs": [
    {
     "name": "stdout",
     "output_type": "stream",
     "text": [
      "[48, 10, 47, 47, 6, 8, 17, 37, 3, 48]\n"
     ]
    }
   ],
   "source": [
    "# rand int\n",
    "arr = np.random.randint(0,50,10)\n",
    "print(list(arr))"
   ]
  },
  {
   "cell_type": "code",
   "execution_count": 45,
   "id": "b9be184c-2798-48c2-b043-c8607e1c5661",
   "metadata": {},
   "outputs": [
    {
     "data": {
      "text/plain": [
       "3"
      ]
     },
     "execution_count": 45,
     "metadata": {},
     "output_type": "execute_result"
    }
   ],
   "source": [
    "# min\n",
    "arr.min()"
   ]
  },
  {
   "cell_type": "code",
   "execution_count": 47,
   "id": "983a0c55-3f8f-43a1-8aed-ea9e460f0cc1",
   "metadata": {},
   "outputs": [
    {
     "data": {
      "text/plain": [
       "48"
      ]
     },
     "execution_count": 47,
     "metadata": {},
     "output_type": "execute_result"
    }
   ],
   "source": [
    "# max\n",
    "arr.max()"
   ]
  },
  {
   "cell_type": "code",
   "execution_count": 49,
   "id": "d30d9727-b610-4fe3-aae7-44180d2a13c7",
   "metadata": {},
   "outputs": [
    {
     "data": {
      "text/plain": [
       "0"
      ]
     },
     "execution_count": 49,
     "metadata": {},
     "output_type": "execute_result"
    }
   ],
   "source": [
    "# location of max\n",
    "arr.argmax()"
   ]
  },
  {
   "cell_type": "code",
   "execution_count": 55,
   "id": "44b4b468-85fa-47a1-a1e6-fdd6d2e8c668",
   "metadata": {},
   "outputs": [
    {
     "data": {
      "text/plain": [
       "6"
      ]
     },
     "execution_count": 55,
     "metadata": {},
     "output_type": "execute_result"
    }
   ],
   "source": [
    "# recall how we did this randint above\n",
    "# arr = np.random.randint(0,50,10)\n",
    "\n",
    "# Importing randint directly from numpy.random\n",
    "\n",
    "from numpy.random import randint\n",
    "randint(2,10)"
   ]
  },
  {
   "cell_type": "code",
   "execution_count": null,
   "id": "73c8b61b-703c-446f-bee3-3c4737cf8668",
   "metadata": {},
   "outputs": [],
   "source": []
  }
 ],
 "metadata": {
  "kernelspec": {
   "display_name": "Python 3 (ipykernel)",
   "language": "python",
   "name": "python3"
  },
  "language_info": {
   "codemirror_mode": {
    "name": "ipython",
    "version": 3
   },
   "file_extension": ".py",
   "mimetype": "text/x-python",
   "name": "python",
   "nbconvert_exporter": "python",
   "pygments_lexer": "ipython3",
   "version": "3.11.7"
  }
 },
 "nbformat": 4,
 "nbformat_minor": 5
}

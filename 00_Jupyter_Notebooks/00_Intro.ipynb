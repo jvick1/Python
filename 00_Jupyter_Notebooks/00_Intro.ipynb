{
 "cells": [
  {
   "cell_type": "markdown",
   "id": "278f504b-13f3-4933-8874-a43ba46f0d1d",
   "metadata": {},
   "source": [
    "# Intro\n",
    "Add a cell by pressing `A` to insert a cell above or `B` for below. "
   ]
  },
  {
   "cell_type": "code",
   "execution_count": 1,
   "id": "5d6c1de0-ca54-4051-b2fc-febcc3affefa",
   "metadata": {},
   "outputs": [
    {
     "data": {
      "text/plain": [
       "'Hello'"
      ]
     },
     "execution_count": 1,
     "metadata": {},
     "output_type": "execute_result"
    }
   ],
   "source": [
    "\"Hello\""
   ]
  },
  {
   "cell_type": "code",
   "execution_count": 3,
   "id": "dde796c7-d0ff-4612-a5d1-f3a5db5168ea",
   "metadata": {},
   "outputs": [
    {
     "name": "stdout",
     "output_type": "stream",
     "text": [
      "Hello\n"
     ]
    }
   ],
   "source": [
    "print(\"Hello\")"
   ]
  },
  {
   "cell_type": "code",
   "execution_count": 5,
   "id": "46dda667-fcf3-4b00-a0d1-af5b06510238",
   "metadata": {},
   "outputs": [
    {
     "data": {
      "text/plain": [
       "2"
      ]
     },
     "execution_count": 5,
     "metadata": {},
     "output_type": "execute_result"
    }
   ],
   "source": [
    "1+1"
   ]
  }
 ],
 "metadata": {
  "kernelspec": {
   "display_name": "Python 3 (ipykernel)",
   "language": "python",
   "name": "python3"
  },
  "language_info": {
   "codemirror_mode": {
    "name": "ipython",
    "version": 3
   },
   "file_extension": ".py",
   "mimetype": "text/x-python",
   "name": "python",
   "nbconvert_exporter": "python",
   "pygments_lexer": "ipython3",
   "version": "3.11.7"
  }
 },
 "nbformat": 4,
 "nbformat_minor": 5
}

{
 "cells": [
  {
   "cell_type": "markdown",
   "id": "552ba643-b980-4ff7-9d3a-cac0a1b00046",
   "metadata": {},
   "source": [
    "# Overview\n",
    "## 1. Dictionaires\n",
    "\n",
    "**Dictionaries** are a powerful data structure in Python that allow you to store data in key-value pairs, making it easy to organize and access information efficiently."
   ]
  },
  {
   "cell_type": "code",
   "execution_count": 2,
   "id": "327f62f4-4520-4d7c-8997-04b6bb3e0e57",
   "metadata": {},
   "outputs": [],
   "source": [
    "d = {'key1':'value', 'key2':123}"
   ]
  },
  {
   "cell_type": "code",
   "execution_count": 4,
   "id": "133688e1-9a6e-4116-b566-9a7ff4ca3fdb",
   "metadata": {},
   "outputs": [
    {
     "data": {
      "text/plain": [
       "'value'"
      ]
     },
     "execution_count": 4,
     "metadata": {},
     "output_type": "execute_result"
    }
   ],
   "source": [
    "d['key1']"
   ]
  },
  {
   "cell_type": "code",
   "execution_count": 12,
   "id": "cd448d54-22ee-4d6b-a61e-535710984739",
   "metadata": {},
   "outputs": [
    {
     "name": "stdout",
     "output_type": "stream",
     "text": [
      "Dictionaires can store list -- [1, 2, 3]\n",
      "You can also do normal list operations too -- 1\n"
     ]
    }
   ],
   "source": [
    "# list in dic\n",
    "d = {'k1':[1,2,3]}\n",
    "print(\"Dictionaires can store list --\", d['k1'])\n",
    "print(\"You can also do normal list operations too --\",d['k1'][0])"
   ]
  },
  {
   "cell_type": "code",
   "execution_count": 14,
   "id": "1a97bf08-194c-43a3-8b4e-31cb8a22b636",
   "metadata": {},
   "outputs": [
    {
     "data": {
      "text/plain": [
       "2"
      ]
     },
     "execution_count": 14,
     "metadata": {},
     "output_type": "execute_result"
    }
   ],
   "source": [
    "# dic in dic\n",
    "d = {'k1':{'innerkey':[1,2,3]}}\n",
    "d['k1']['innerkey'][1]"
   ]
  },
  {
   "cell_type": "markdown",
   "id": "c5154eec-ed10-4a4f-8ba4-3794afb7470c",
   "metadata": {},
   "source": [
    "## 2. Booleans\n",
    "\n",
    "**Booleans** are a fundamental data type in Python that represent two values: `True` and `False`. They are commonly used in conditional statements and logical operations to control the flow of a program."
   ]
  },
  {
   "cell_type": "code",
   "execution_count": 19,
   "id": "e3d9ce47-4866-4476-8acd-68dae7b097d0",
   "metadata": {},
   "outputs": [
    {
     "name": "stdout",
     "output_type": "stream",
     "text": [
      "True\n",
      "False\n"
     ]
    }
   ],
   "source": [
    "# Logical operations\n",
    "print(3 > 2)  # Output: True\n",
    "print(3 < 2)  # Output: False"
   ]
  },
  {
   "cell_type": "markdown",
   "id": "8dabe22b-9226-4141-a7b3-81f3a1835879",
   "metadata": {},
   "source": [
    "## 3. Tuples\n",
    "**Tuples** are an immutable data type in Python, meaning once a tuple is created, its elements cannot be changed."
   ]
  },
  {
   "cell_type": "code",
   "execution_count": 33,
   "id": "93a3cbcd-ce52-4a4c-8361-94e2907b90db",
   "metadata": {},
   "outputs": [
    {
     "name": "stdout",
     "output_type": "stream",
     "text": [
      "Alice\n",
      "24\n",
      "Alice\n",
      "24\n",
      "Computer Science\n",
      "Bob\n"
     ]
    }
   ],
   "source": [
    "# Creating a tuple\n",
    "person = ('Alice', 24, 'Computer Science')\n",
    "\n",
    "# Accessing elements\n",
    "print(person[0])  # Output: Alice\n",
    "print(person[1])  # Output: 24\n",
    "\n",
    "# Attempting to modify a tuple (will raise an error)\n",
    "# person[1] = 25  # Uncommenting this line will raise a TypeError\n",
    "\n",
    "# Unpacking a tuple\n",
    "name, age, major = person\n",
    "print(name)  # Output: Alice\n",
    "print(age)   # Output: 24\n",
    "print(major) # Output: Computer Science\n",
    "\n",
    "# Nested tuples\n",
    "nested_tuple = (('Alice', 24), ('Bob', 30))\n",
    "print(nested_tuple[1][0])  # Output: Bob"
   ]
  },
  {
   "cell_type": "markdown",
   "id": "59f40c14-844f-4859-bf85-2894587e0f4e",
   "metadata": {},
   "source": [
    "## 4. Sets\n",
    "\n",
    "**Sets** are an unordered collection of unique elements in Python. They are useful for storing and performing operations on unique items and are particularly handy for removing duplicates and performing set operations like unions, intersections, and differences."
   ]
  },
  {
   "cell_type": "code",
   "execution_count": 27,
   "id": "d8a364d7-1c55-4208-b851-71eae1d2f634",
   "metadata": {},
   "outputs": [
    {
     "name": "stdout",
     "output_type": "stream",
     "text": [
      "{'cherry', 'banana', 'apple'}\n",
      "{'cherry', 'banana', 'apple', 'orange'}\n",
      "{'cherry', 'apple', 'orange'}\n",
      "True\n"
     ]
    }
   ],
   "source": [
    "# Creating a set\n",
    "fruits = {'apple', 'apple', 'banana', 'cherry'}\n",
    "print(fruits)  # Output: {'banana', 'cherry', 'apple'}\n",
    "\n",
    "# Adding an element to a set\n",
    "fruits.add('orange')\n",
    "print(fruits)  # Output: {'banana', 'cherry', 'orange', 'apple'}\n",
    "\n",
    "# Removing an element from a set\n",
    "fruits.remove('banana')\n",
    "print(fruits)  # Output: {'cherry', 'orange', 'apple'}\n",
    "\n",
    "# Checking for membership\n",
    "print('apple' in fruits)  # Output: True"
   ]
  },
  {
   "cell_type": "markdown",
   "id": "55699dd7-02a7-4fa5-966a-bdc092a70cfe",
   "metadata": {},
   "source": [
    "## 5. Conditional statements\n",
    "\n",
    "Conditional statements are fundamental in programming as they allow you to control the flow of your program based on different conditions. They are essential for making decisions, implementing logic, and creating dynamic and responsive code.\n",
    "\n",
    "The `if` statement is used to test a condition. If the condition evaluates to True, the block of code inside the if statement is executed.\n",
    "\n",
    "The `elif` (short for \"else if\") statement is used to test multiple conditions.\n",
    "\n",
    "The `else` statement is executed if all preceding if and elif conditions evaluate to False. It provides a fallback for when no other conditions are met.\n",
    "                                                                                                               "
   ]
  },
  {
   "cell_type": "code",
   "execution_count": 36,
   "id": "b9319d1c-675e-4f33-ac57-5f1385b0221d",
   "metadata": {},
   "outputs": [
    {
     "name": "stdout",
     "output_type": "stream",
     "text": [
      "x is greater than 5 but less than or equal to 10\n"
     ]
    }
   ],
   "source": [
    "x = 10\n",
    "\n",
    "if x > 15:\n",
    "    print(\"x is greater than 15\")\n",
    "elif x > 10:\n",
    "    print(\"x is greater than 10 but less than or equal to 15\")\n",
    "elif x > 5:\n",
    "    print(\"x is greater than 5 but less than or equal to 10\")  # Output: x is greater than 5 but less than or equal to 10\n",
    "else:\n",
    "    print(\"x is 5 or less\")"
   ]
  },
  {
   "cell_type": "code",
   "execution_count": null,
   "id": "0d15eb88-e898-4254-8c1a-ea0d1b949641",
   "metadata": {},
   "outputs": [],
   "source": []
  }
 ],
 "metadata": {
  "kernelspec": {
   "display_name": "Python 3 (ipykernel)",
   "language": "python",
   "name": "python3"
  },
  "language_info": {
   "codemirror_mode": {
    "name": "ipython",
    "version": 3
   },
   "file_extension": ".py",
   "mimetype": "text/x-python",
   "name": "python",
   "nbconvert_exporter": "python",
   "pygments_lexer": "ipython3",
   "version": "3.11.7"
  }
 },
 "nbformat": 4,
 "nbformat_minor": 5
}

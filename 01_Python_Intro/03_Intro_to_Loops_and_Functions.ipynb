{
 "cells": [
  {
   "cell_type": "markdown",
   "id": "5f1ae5ae-aff3-4406-8462-0750729a0716",
   "metadata": {},
   "source": [
    "# Overview\n",
    "\n",
    "## 1. Loops\n",
    "\n",
    "Loops are fundamental for performing repetitive tasks. The `for loop` iterates over a sequence (like a list or a range), while the `while loop` continues executing as long as a specified condition is True."
   ]
  },
  {
   "cell_type": "code",
   "execution_count": 6,
   "id": "d195e468-dc27-41e1-9667-f182a20280b3",
   "metadata": {},
   "outputs": [
    {
     "name": "stdout",
     "output_type": "stream",
     "text": [
      "1\n",
      "2\n",
      "3\n",
      "4\n",
      "5\n"
     ]
    }
   ],
   "source": [
    "# take in list and loop over it\n",
    "seq = [1,2,3,4,5]\n",
    "\n",
    "for num in seq:\n",
    "    print(num)"
   ]
  },
  {
   "cell_type": "code",
   "execution_count": 20,
   "id": "5209cf69-27a4-4334-8fe3-85175ddaf16e",
   "metadata": {},
   "outputs": [
    {
     "name": "stdout",
     "output_type": "stream",
     "text": [
      "i is: 1\n",
      "i is: 2\n",
      "i is: 3\n",
      "i is: 4\n"
     ]
    }
   ],
   "source": [
    "# while loop\n",
    "i = 1 \n",
    "\n",
    "while i < 5:\n",
    "    print('i is: {}'.format(i))\n",
    "    i += 1\n",
    "    "
   ]
  },
  {
   "cell_type": "markdown",
   "id": "26e22a3c-b57b-40da-88e6-e11303a962f2",
   "metadata": {},
   "source": [
    "## 2. Range Function\n",
    "The range function generates a sequence of numbers, which is particularly useful in for loops for iterating a specific number of times."
   ]
  },
  {
   "cell_type": "code",
   "execution_count": 12,
   "id": "ae6a48f0-7c86-41cc-b76c-8ca836ccc0e5",
   "metadata": {},
   "outputs": [
    {
     "data": {
      "text/plain": [
       "range(0, 5)"
      ]
     },
     "execution_count": 12,
     "metadata": {},
     "output_type": "execute_result"
    }
   ],
   "source": [
    "range(0,5)"
   ]
  },
  {
   "cell_type": "code",
   "execution_count": 16,
   "id": "182e02d8-96cd-4904-9983-39cf66aa6fdf",
   "metadata": {},
   "outputs": [
    {
     "name": "stdout",
     "output_type": "stream",
     "text": [
      "0\n",
      "1\n",
      "2\n",
      "3\n",
      "4\n"
     ]
    }
   ],
   "source": [
    "for x in range(0,5):\n",
    "    print(x)"
   ]
  },
  {
   "cell_type": "code",
   "execution_count": 18,
   "id": "9e2fd538-15cd-470e-a18b-71f6ed80d19f",
   "metadata": {},
   "outputs": [
    {
     "data": {
      "text/plain": [
       "[0, 1, 2, 3, 4, 5, 6, 7, 8, 9]"
      ]
     },
     "execution_count": 18,
     "metadata": {},
     "output_type": "execute_result"
    }
   ],
   "source": [
    "list(range(10))"
   ]
  },
  {
   "cell_type": "markdown",
   "id": "3612dadf-60aa-42dc-836d-f44c9e2da43e",
   "metadata": {},
   "source": [
    "## 3. List Comprehensions\n",
    "List comprehensions provide a concise way to create lists. They consist of brackets containing an expression followed by a for clause, and can include multiple for or if clauses."
   ]
  },
  {
   "cell_type": "code",
   "execution_count": 26,
   "id": "c0667033-a774-446c-ad29-e97134ae7c75",
   "metadata": {},
   "outputs": [
    {
     "name": "stdout",
     "output_type": "stream",
     "text": [
      "[1, 4, 9, 16]\n"
     ]
    }
   ],
   "source": [
    "# square each value in the following list:\n",
    "x = [1,2,3,4]\n",
    "\n",
    "out = []\n",
    "\n",
    "for num in x:\n",
    "    out.append(num**2)\n",
    "\n",
    "print(out) # Result: [1, 4, 9, 16]\n"
   ]
  },
  {
   "cell_type": "code",
   "execution_count": 28,
   "id": "c3e08b27-ca0c-4742-834d-4a21bd942b80",
   "metadata": {},
   "outputs": [
    {
     "data": {
      "text/plain": [
       "[1, 4, 9, 16]"
      ]
     },
     "execution_count": 28,
     "metadata": {},
     "output_type": "execute_result"
    }
   ],
   "source": [
    "# square each value in the following list:\n",
    "# but with list comprehension\n",
    "\n",
    "[num**2 for num in x]"
   ]
  },
  {
   "cell_type": "markdown",
   "id": "5e476936-0c8c-4968-8042-9fbbfa27ff69",
   "metadata": {},
   "source": [
    "## 4. Functions\n",
    "\n",
    "Functions allow you to encapsulate reusable blocks of code. Using the `def` keyword, you can define your own functions to perform specific tasks, making your code more modular and maintainable."
   ]
  },
  {
   "cell_type": "code",
   "execution_count": 33,
   "id": "9f81ae11-6605-4b68-94b3-a1a7f9213dc2",
   "metadata": {},
   "outputs": [
    {
     "name": "stdout",
     "output_type": "stream",
     "text": [
      "Hello Jose\n"
     ]
    }
   ],
   "source": [
    "def my_func(name='Default Name'):\n",
    "    print('Hello '+name)\n",
    "\n",
    "my_func('Jose')"
   ]
  },
  {
   "cell_type": "code",
   "execution_count": 39,
   "id": "7f066cdb-c662-4259-b87f-2e971bbde228",
   "metadata": {},
   "outputs": [
    {
     "data": {
      "text/plain": [
       "4"
      ]
     },
     "execution_count": 39,
     "metadata": {},
     "output_type": "execute_result"
    }
   ],
   "source": [
    "def square(num):\n",
    "    \"\"\"\n",
    "    THIS IS A DOCSTRING\n",
    "    THIS FUNCTION SQUARES A NUMBER\n",
    "    \"\"\"\n",
    "    return num**2\n",
    "\n",
    "output = square(2)\n",
    "output"
   ]
  },
  {
   "cell_type": "code",
   "execution_count": null,
   "id": "44447291-e5fd-46b5-9cd1-04a26f9f0381",
   "metadata": {},
   "outputs": [],
   "source": []
  }
 ],
 "metadata": {
  "kernelspec": {
   "display_name": "Python 3 (ipykernel)",
   "language": "python",
   "name": "python3"
  },
  "language_info": {
   "codemirror_mode": {
    "name": "ipython",
    "version": 3
   },
   "file_extension": ".py",
   "mimetype": "text/x-python",
   "name": "python",
   "nbconvert_exporter": "python",
   "pygments_lexer": "ipython3",
   "version": "3.11.7"
  }
 },
 "nbformat": 4,
 "nbformat_minor": 5
}

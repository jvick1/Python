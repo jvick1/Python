{
 "cells": [
  {
   "cell_type": "markdown",
   "id": "97f104b0-bf59-4f2a-9270-287a909e2edc",
   "metadata": {},
   "source": [
    "# Create a function that grabs the email website domain from a string in the form `user@domain.com`:"
   ]
  },
  {
   "cell_type": "code",
   "execution_count": 2,
   "id": "1276dbea-61e1-4007-9bb7-16dd8d26ec48",
   "metadata": {},
   "outputs": [],
   "source": [
    "def domainGet(email):\n",
    "    return email.split('@')[1]"
   ]
  },
  {
   "cell_type": "code",
   "execution_count": 4,
   "id": "70c60764-2f67-4420-be1d-6bfe638083ef",
   "metadata": {},
   "outputs": [
    {
     "data": {
      "text/plain": [
       "'domain.com'"
      ]
     },
     "execution_count": 4,
     "metadata": {},
     "output_type": "execute_result"
    }
   ],
   "source": [
    "domainGet('user@domain.com')"
   ]
  },
  {
   "cell_type": "markdown",
   "id": "1c43fa48-e28a-45ec-a522-2e9f2a597eaf",
   "metadata": {},
   "source": [
    "# Create a function that returns True if the word `dog` is in the input string:"
   ]
  },
  {
   "cell_type": "code",
   "execution_count": 12,
   "id": "cfe17091-113e-4fc8-a026-022c66f733ed",
   "metadata": {},
   "outputs": [],
   "source": [
    "def findDog(str):\n",
    "    return 'dog' in str.lower().split()"
   ]
  },
  {
   "cell_type": "code",
   "execution_count": 14,
   "id": "6c3b2d86-2006-4c11-aa28-d86b978e177c",
   "metadata": {},
   "outputs": [
    {
     "data": {
      "text/plain": [
       "True"
      ]
     },
     "execution_count": 14,
     "metadata": {},
     "output_type": "execute_result"
    }
   ],
   "source": [
    "findDog('Is there a dog here?')"
   ]
  },
  {
   "cell_type": "markdown",
   "id": "4f166b34-b6b4-42ae-a5af-5e0f6abf6bf9",
   "metadata": {},
   "source": [
    "# Create a function that couns the number of times the word 'dog' occurs in a string:"
   ]
  },
  {
   "cell_type": "code",
   "execution_count": 39,
   "id": "7ac1be70-793f-42a4-8cd0-57e056996d10",
   "metadata": {},
   "outputs": [],
   "source": [
    "def countDog(str):\n",
    "    count = 0\n",
    "    for word in str.lower().split():\n",
    "        if word == 'dog':\n",
    "            count += 1\n",
    "    return count"
   ]
  },
  {
   "cell_type": "code",
   "execution_count": 41,
   "id": "68f01c81-7ba1-4de7-afe1-ed0ab25198b2",
   "metadata": {},
   "outputs": [
    {
     "data": {
      "text/plain": [
       "2"
      ]
     },
     "execution_count": 41,
     "metadata": {},
     "output_type": "execute_result"
    }
   ],
   "source": [
    "countDog('This dog runs faster than the other dog dude!')"
   ]
  },
  {
   "cell_type": "markdown",
   "id": "1c9ea154-98fb-414d-8430-9bb579b37517",
   "metadata": {},
   "source": [
    "# Use lambda exp and filter out words that don't start with the letter 's'"
   ]
  },
  {
   "cell_type": "code",
   "execution_count": 46,
   "id": "21ac54d4-9c2c-4aeb-8275-c08a655dcd95",
   "metadata": {},
   "outputs": [],
   "source": [
    "seq = ['soup', 'dog', 'salad', 'cat', 'great']"
   ]
  },
  {
   "cell_type": "code",
   "execution_count": 48,
   "id": "5ae614e5-f026-4825-8797-b1a6e20ee0bd",
   "metadata": {},
   "outputs": [
    {
     "data": {
      "text/plain": [
       "['soup', 'salad']"
      ]
     },
     "execution_count": 48,
     "metadata": {},
     "output_type": "execute_result"
    }
   ],
   "source": [
    "list(filter(lambda word: word[0] =='s',seq))"
   ]
  },
  {
   "cell_type": "code",
   "execution_count": null,
   "id": "76379060-530e-4b7a-8364-a4aa6317bd89",
   "metadata": {},
   "outputs": [],
   "source": []
  }
 ],
 "metadata": {
  "kernelspec": {
   "display_name": "Python 3 (ipykernel)",
   "language": "python",
   "name": "python3"
  },
  "language_info": {
   "codemirror_mode": {
    "name": "ipython",
    "version": 3
   },
   "file_extension": ".py",
   "mimetype": "text/x-python",
   "name": "python",
   "nbconvert_exporter": "python",
   "pygments_lexer": "ipython3",
   "version": "3.11.7"
  }
 },
 "nbformat": 4,
 "nbformat_minor": 5
}

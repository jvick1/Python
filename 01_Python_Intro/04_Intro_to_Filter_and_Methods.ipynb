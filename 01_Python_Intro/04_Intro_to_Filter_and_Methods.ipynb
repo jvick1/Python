{
 "cells": [
  {
   "cell_type": "markdown",
   "id": "1e958d54-ce0f-43f7-9dca-90c7ad3dfa43",
   "metadata": {},
   "source": [
    "# Overview\n",
    "\n",
    "## 1. Map Function\n",
    "\n",
    "The map and filter functions are higher-order functions that apply a function to every item in an iterable (like a list) and return a new iterable. map transforms each element, while filter selects elements based on a condition."
   ]
  },
  {
   "cell_type": "code",
   "execution_count": 17,
   "id": "24fe02cc-602a-481b-aea0-09fac6556e33",
   "metadata": {},
   "outputs": [
    {
     "name": "stdout",
     "output_type": "stream",
     "text": [
      "10\n",
      "[2, 4, 6, 8, 10]\n",
      "[2, 4]\n"
     ]
    }
   ],
   "source": [
    "def times2(var):\n",
    "    \"\"\"\n",
    "    result = var * 2\n",
    "    \"\"\"\n",
    "    return var*2\n",
    "\n",
    "print(times2(5))\n",
    "\n",
    "# map() - we will map this func to a seq of numbers\n",
    "\n",
    "seq = [1,2,3,4,5]\n",
    "\n",
    "print(list(map(times2,seq)))\n",
    "\n",
    "# filter() - filter out \n",
    "\n",
    "print(list(filter(lambda num: num%2 ==0,seq)))"
   ]
  },
  {
   "cell_type": "markdown",
   "id": "b79be3f3-4d3e-4808-ad09-4c4936688618",
   "metadata": {},
   "source": [
    "## 2. Lambda Expressions\n",
    "\n",
    "Lambda expressions, or anonymous functions, are small, unnamed functions defined using the lambda keyword. They are useful for creating quick, throwaway functions without formally defining them with def."
   ]
  },
  {
   "cell_type": "code",
   "execution_count": 13,
   "id": "4b24a384-2e94-4e58-84f4-7fd1d4386ca5",
   "metadata": {},
   "outputs": [
    {
     "data": {
      "text/plain": [
       "[3, 6, 9, 12, 15]"
      ]
     },
     "execution_count": 13,
     "metadata": {},
     "output_type": "execute_result"
    }
   ],
   "source": [
    "# we can re-write our times2 function on one line\n",
    "def times2(var):return var*2\n",
    "\n",
    "# the lambda expression will follow this but simplified\n",
    "t = lambda var:var*2\n",
    "\n",
    "# we can now apply this to our map\n",
    "list(map(lambda num:num*3, seq))"
   ]
  },
  {
   "cell_type": "markdown",
   "id": "155c434a-1d24-4029-a45d-680d342ef3f8",
   "metadata": {},
   "source": [
    "## 3. Methods\n",
    "\n",
    "Python provides a rich set of built-in methods for common data types such as strings, lists, dictionaries, and sets. These methods allow you to perform a wide range of operations, from modifying and searching data to combining and transforming collections."
   ]
  },
  {
   "cell_type": "code",
   "execution_count": 30,
   "id": "5dff9c90-3942-48e7-a351-a81512e20167",
   "metadata": {},
   "outputs": [],
   "source": [
    "# type s. \"TAB\" and you can see the functions you can apply to a string\n",
    "s = 'In the next line type \"S\" followed by TAB'"
   ]
  },
  {
   "cell_type": "code",
   "execution_count": 24,
   "id": "0f8f823f-c5f7-41cd-9eeb-0dff174eba34",
   "metadata": {},
   "outputs": [
    {
     "data": {
      "text/plain": [
       "'In the next line type \"s\" followed by tab'"
      ]
     },
     "execution_count": 24,
     "metadata": {},
     "output_type": "execute_result"
    }
   ],
   "source": [
    "s.capitalize()"
   ]
  },
  {
   "cell_type": "code",
   "execution_count": 32,
   "id": "d64f61a2-c00a-4525-b965-4b6eda578ab6",
   "metadata": {},
   "outputs": [],
   "source": [
    "# type d. \"TAB\" and you can see the functions you can apply to a dictionary\n",
    "d = {'k1':1,'k2':2}"
   ]
  },
  {
   "cell_type": "code",
   "execution_count": 28,
   "id": "fa2f36ca-60b7-43e6-8bdb-a71009c794f9",
   "metadata": {},
   "outputs": [
    {
     "data": {
      "text/plain": [
       "dict_keys(['k1', 'k2'])"
      ]
     },
     "execution_count": 28,
     "metadata": {},
     "output_type": "execute_result"
    }
   ],
   "source": [
    "d.keys()"
   ]
  },
  {
   "cell_type": "code",
   "execution_count": null,
   "id": "9bb568f3-06a4-4b0e-ac75-1fae4781d3ce",
   "metadata": {},
   "outputs": [],
   "source": []
  }
 ],
 "metadata": {
  "kernelspec": {
   "display_name": "Python 3 (ipykernel)",
   "language": "python",
   "name": "python3"
  },
  "language_info": {
   "codemirror_mode": {
    "name": "ipython",
    "version": 3
   },
   "file_extension": ".py",
   "mimetype": "text/x-python",
   "name": "python",
   "nbconvert_exporter": "python",
   "pygments_lexer": "ipython3",
   "version": "3.11.7"
  }
 },
 "nbformat": 4,
 "nbformat_minor": 5
}

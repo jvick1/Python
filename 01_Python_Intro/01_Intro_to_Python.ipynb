{
 "cells": [
  {
   "cell_type": "markdown",
   "id": "0037356b-7acd-4590-a7e4-626863828f72",
   "metadata": {},
   "source": [
    "# Overview\n",
    "## 1. Mathematical Operations\n",
    "\n",
    "- **Addition (`+`):** Adds values together"
   ]
  },
  {
   "cell_type": "code",
   "execution_count": 2,
   "id": "5125630d-1954-4ca0-8154-e3183009638c",
   "metadata": {},
   "outputs": [
    {
     "data": {
      "text/plain": [
       "5"
      ]
     },
     "execution_count": 2,
     "metadata": {},
     "output_type": "execute_result"
    }
   ],
   "source": [
    "x = 3 + 2\n",
    "x"
   ]
  },
  {
   "cell_type": "markdown",
   "id": "604b9275-fc4e-4af0-9654-9967af68fe96",
   "metadata": {},
   "source": [
    "- **Subtraction (`-`):** Subtracts values"
   ]
  },
  {
   "cell_type": "code",
   "execution_count": 6,
   "id": "0942ff57-df99-4732-925d-227711a59b6d",
   "metadata": {},
   "outputs": [
    {
     "data": {
      "text/plain": [
       "3"
      ]
     },
     "execution_count": 6,
     "metadata": {},
     "output_type": "execute_result"
    }
   ],
   "source": [
    "5-2"
   ]
  },
  {
   "cell_type": "markdown",
   "id": "988f6fb1-a5d8-4f47-b374-d747e9cb51a8",
   "metadata": {},
   "source": [
    "**Note:** You can assign variables like we did with `x` or you can simply enter your equation and view the output.\n",
    "\n",
    "- **Multiplication (`*`):** Multiplies values"
   ]
  },
  {
   "cell_type": "code",
   "execution_count": 9,
   "id": "aedcad8d-09dd-4b0f-ae3f-75ce26209031",
   "metadata": {},
   "outputs": [
    {
     "data": {
      "text/plain": [
       "8"
      ]
     },
     "execution_count": 9,
     "metadata": {},
     "output_type": "execute_result"
    }
   ],
   "source": [
    "4 * 2"
   ]
  },
  {
   "cell_type": "markdown",
   "id": "cc1d7374-c920-43b5-a23f-9f3b84bc592b",
   "metadata": {},
   "source": [
    "- **Division (`/`):** divides numbers resulting in a float. If you want a integer use `//` for Floor Division."
   ]
  },
  {
   "cell_type": "code",
   "execution_count": 14,
   "id": "42d81ea2-bb61-4f5c-9d41-c6179224cd93",
   "metadata": {},
   "outputs": [
    {
     "name": "stdout",
     "output_type": "stream",
     "text": [
      "x is 3.3333333333333335 a float\n",
      "y is 3 integer\n"
     ]
    }
   ],
   "source": [
    "x = 10 / 3\n",
    "y = 10 // 3 \n",
    "\n",
    "print(f'x is {x} a float\\ny is {y} integer')"
   ]
  },
  {
   "cell_type": "markdown",
   "id": "b71fcd45-05c0-4392-93ac-5192ac6a474c",
   "metadata": {},
   "source": [
    "- **Modulus (%`):** Returns the remainder of a division"
   ]
  },
  {
   "cell_type": "code",
   "execution_count": 17,
   "id": "2607bced-231a-4a0a-8569-47d62c862fdd",
   "metadata": {},
   "outputs": [
    {
     "data": {
      "text/plain": [
       "1"
      ]
     },
     "execution_count": 17,
     "metadata": {},
     "output_type": "execute_result"
    }
   ],
   "source": [
    "10 % 3"
   ]
  },
  {
   "cell_type": "markdown",
   "id": "3d8b7f36-d4ff-4899-901b-7e66df3230d3",
   "metadata": {},
   "source": [
    "- **Exponentiation (`**`):** Raises one number to the power of another"
   ]
  },
  {
   "cell_type": "code",
   "execution_count": 22,
   "id": "92ec25e0-b8e5-4b98-8a90-8ea067cf04ee",
   "metadata": {},
   "outputs": [
    {
     "data": {
      "text/plain": [
       "8"
      ]
     },
     "execution_count": 22,
     "metadata": {},
     "output_type": "execute_result"
    }
   ],
   "source": [
    "2 ** 3"
   ]
  },
  {
   "cell_type": "markdown",
   "id": "d071b5fd-b11f-4c0a-b385-7aae600d9981",
   "metadata": {},
   "source": [
    "## 2. String Operations\n",
    "\n",
    "### String Concatenation\n",
    "Combining two or more strings uising the `+` operator"
   ]
  },
  {
   "cell_type": "code",
   "execution_count": 26,
   "id": "853cf1f7-90ca-41ba-93df-5895e028602a",
   "metadata": {},
   "outputs": [
    {
     "name": "stdout",
     "output_type": "stream",
     "text": [
      "Hello, Alice!\n"
     ]
    }
   ],
   "source": [
    "greeting = \"Hello\"\n",
    "name = \"Alice\"\n",
    "message = greeting + \", \" + name + \"!\"\n",
    "print(message)"
   ]
  },
  {
   "cell_type": "markdown",
   "id": "3c78ba4c-bb71-4755-a909-5c66312cb93b",
   "metadata": {},
   "source": [
    "### String Formatting\n",
    "Using formatted string literals (f-strings) to embed expressions inside string literals. We used an example of this above in Division. "
   ]
  },
  {
   "cell_type": "code",
   "execution_count": 72,
   "id": "f5aca6af-516e-4212-abeb-b077d24200f5",
   "metadata": {},
   "outputs": [
    {
     "name": "stdout",
     "output_type": "stream",
     "text": [
      "Hello, the value is 5\n",
      "Hello, the value is 5\n"
     ]
    }
   ],
   "source": [
    "value = 5\n",
    "print(f'Hello, the value is {value}') #short hand\n",
    "print('Hello, the value is {}'.format(value)) #long hand"
   ]
  },
  {
   "cell_type": "markdown",
   "id": "93b20eb3-9bbb-4219-9639-5ee64c5d18c1",
   "metadata": {},
   "source": [
    "### String Methods\n",
    "- **Change Case:** `str.lower()` converts string to lowercase, `str.upper()` to upper case, and `str.capitalize()` to first character of the stirng. "
   ]
  },
  {
   "cell_type": "code",
   "execution_count": 57,
   "id": "4d0dab60-16ce-4e55-bd70-33d52774d0e2",
   "metadata": {},
   "outputs": [
    {
     "name": "stdout",
     "output_type": "stream",
     "text": [
      "HELLO WORLD\n",
      "Hello world\n"
     ]
    }
   ],
   "source": [
    "text = \"hello world\"\n",
    "#print(text.lower()) #already lower case\n",
    "print(text.upper())\n",
    "print(text.capitalize())"
   ]
  },
  {
   "cell_type": "markdown",
   "id": "c869dcde-1f7a-48b6-9cb1-e0722a890c83",
   "metadata": {},
   "source": [
    "- **Stripping Whitespace:** `str.strip() removed leading & trailing whitespace, `str.lstrip()` & `str.rstrip()` remove leading and trailing whitespaces respectivly"
   ]
  },
  {
   "cell_type": "code",
   "execution_count": 55,
   "id": "4b5641c8-64d8-4970-8527-aed02190cddc",
   "metadata": {},
   "outputs": [
    {
     "name": "stdout",
     "output_type": "stream",
     "text": [
      "| hello world |\n",
      "| hello world  |\n",
      "|  hello world |\n"
     ]
    }
   ],
   "source": [
    "text = \" hello world \"\n",
    "print(\"|\",text.strip(),\"|\") #removes all whitespace\n",
    "print(\"|\",text.lstrip(),\"|\") #leading whitespace\n",
    "print(\"|\",text.rstrip(),\"|\") #tailing\n",
    "#added in | to see the spacing"
   ]
  },
  {
   "cell_type": "markdown",
   "id": "a1b3212e-e00c-477a-a75b-41b7bb60de25",
   "metadata": {},
   "source": [
    "- **Find & Replace:** `str.find(sub)` returns the lowest index of substring if found while `str.replace(old,new)` will find and replace substring with new string."
   ]
  },
  {
   "cell_type": "code",
   "execution_count": 62,
   "id": "ab537139-746d-46a5-80c5-f380044ae42a",
   "metadata": {},
   "outputs": [
    {
     "name": "stdout",
     "output_type": "stream",
     "text": [
      "6\n",
      "hello Python\n"
     ]
    }
   ],
   "source": [
    "text = \"hello world\"\n",
    "print(text.find(\"world\")) # h is the 0th index\n",
    "print(text.replace(\"world\", \"Python\"))"
   ]
  },
  {
   "cell_type": "markdown",
   "id": "92ee03b5-9ce5-4f30-a816-062b019e20b7",
   "metadata": {},
   "source": [
    "- **Splitting & Joining:** `str.split(sep)` splits string on a specified separator and returns a list of substrings. `str.join(iterable)` joins a string with a separator."
   ]
  },
  {
   "cell_type": "code",
   "execution_count": 65,
   "id": "2a187b1f-0650-4449-ac52-708a7cbbe501",
   "metadata": {},
   "outputs": [
    {
     "name": "stdout",
     "output_type": "stream",
     "text": [
      "['hello', 'world']\n",
      "hello world\n"
     ]
    }
   ],
   "source": [
    "text = \"hello world\"\n",
    "words = text.split(\" \") #split on spaces\n",
    "print(words) #print list of words\n",
    "sentence = \" \".join(words) #join list of words with spaces\n",
    "print(sentence) #result"
   ]
  },
  {
   "cell_type": "markdown",
   "id": "f33b8594-0236-4094-a412-56083a1c814a",
   "metadata": {},
   "source": [
    "- **String Slicing:** Extracting a substring using slice notation"
   ]
  },
  {
   "cell_type": "code",
   "execution_count": 68,
   "id": "16011aaf-59a6-4915-b78d-184f37dd2273",
   "metadata": {},
   "outputs": [
    {
     "name": "stdout",
     "output_type": "stream",
     "text": [
      "hello\n",
      "world\n",
      "world\n"
     ]
    }
   ],
   "source": [
    "text = \"hello world\"\n",
    "print(text[0:5]) #hello\n",
    "print(text[6:]) #world\n",
    "print(text[-5:]) #last 5 elements ie world again"
   ]
  },
  {
   "cell_type": "markdown",
   "id": "7ac6060a-9374-405c-8bef-03bea2e85dd4",
   "metadata": {},
   "source": [
    "## 3. List Operations \n",
    "\n",
    "### Creating a list\n",
    "\n",
    "List are similar to strings in the way you can access their index. In addion, you can `append()`, `insert()`, `pop()`, and apply other useful operations to your string. Let's look at a few:"
   ]
  },
  {
   "cell_type": "code",
   "execution_count": 84,
   "id": "766bf7e7-3c10-4f51-b23f-54aee82b17e8",
   "metadata": {},
   "outputs": [
    {
     "name": "stdout",
     "output_type": "stream",
     "text": [
      "print index 0 of list 1\n",
      "first 3 elements [1, 2, 3]\n",
      "Adds 6 to the end of list [1, 2, 3, 4, 5, 6]\n",
      "Insert an element at a specific postion [1, 2, 'a', 3, 4, 5, 6]\n",
      "Extend the list by appending elements [1, 2, 'a', 3, 4, 5, 6, 7, 8, 9]\n",
      "Remove the first occurrence of an elemnet [1, 2, 3, 4, 5, 6, 7, 8, 9]\n"
     ]
    }
   ],
   "source": [
    "my_list = [1,2,3,4,5]\n",
    "\n",
    "# Viewing\n",
    "print(\"print index 0 of list\", my_list[0]) # print index 0 of list\n",
    "print(\"first 3 elements\",my_list[:3]) # first 3 elements\n",
    "\n",
    "#operations\n",
    "my_list.append(6) # adds 6 to the end of list\n",
    "print(\"Adds 6 to the end of list\",my_list)\n",
    "\n",
    "my_list.insert(2, 'a') # insert an element at a specific postion\n",
    "print(\"Insert an element at a specific postion\",my_list)\n",
    "\n",
    "my_list.extend([7,8,9]) # Extend the list by appending elements\n",
    "print(\"Extend the list by appending elements\",my_list)\n",
    "\n",
    "my_list.remove('a') # remove the first occurrence of an elemnet\n",
    "print(\"Remove the first occurrence of an elemnet\",my_list)"
   ]
  },
  {
   "cell_type": "markdown",
   "id": "62306f09-a067-47d7-b83b-8fa3f585c17d",
   "metadata": {},
   "source": [
    "### Other Useful Methods\n",
    "`Sort` the list in ascending order (or descending with `reverse=True`), Reverse the elements of the list in place, and Count the occurrences of an element. "
   ]
  },
  {
   "cell_type": "code",
   "execution_count": 93,
   "id": "a5d7f3e7-dca2-4e9d-bdf6-a3603cf56691",
   "metadata": {},
   "outputs": [
    {
     "name": "stdout",
     "output_type": "stream",
     "text": [
      "Sort [1, 2, 3, 4, 5, 6, 7, 8, 9]\n",
      "Reverse [9, 8, 7, 6, 5, 4, 3, 2, 1]\n",
      "5th index is 4\n",
      "there are 1x 2s in your list\n"
     ]
    }
   ],
   "source": [
    "my_list.sort() #sort\n",
    "print(\"Sort\",my_list)\n",
    "\n",
    "my_list.sort(reverse=True) #reverse\n",
    "print(\"Reverse\",my_list)\n",
    "\n",
    "index = my_list.index(5) #find\n",
    "print(\"5th index is\",index) \n",
    "\n",
    "count = my_list.count(2) #count how many 2s there are\n",
    "print(f'there are {count}x 2s in your list')"
   ]
  },
  {
   "cell_type": "markdown",
   "id": "a9655c25-7117-46cf-8a82-cff24ee1381e",
   "metadata": {},
   "source": [
    "### Nesting\n",
    "\n",
    "Consider a 3x3 matrix. Using nested lists, we can represent this matrix in Python:"
   ]
  },
  {
   "cell_type": "code",
   "execution_count": 96,
   "id": "d1deb039-c9f0-4907-9bd1-d4093ccd11b4",
   "metadata": {},
   "outputs": [
    {
     "name": "stdout",
     "output_type": "stream",
     "text": [
      "1\n",
      "6\n"
     ]
    }
   ],
   "source": [
    "matrix = [\n",
    "    [1, 2, 3],\n",
    "    [4, 5, 6],\n",
    "    [7, 8, 9]\n",
    "]\n",
    "\n",
    "# Accessing elements\n",
    "print(matrix[0][0])  # Output: 1\n",
    "print(matrix[1][2])  # Output: 6"
   ]
  },
  {
   "cell_type": "code",
   "execution_count": null,
   "id": "116938dd-77b7-475f-a0d9-0926cad92696",
   "metadata": {},
   "outputs": [],
   "source": []
  }
 ],
 "metadata": {
  "kernelspec": {
   "display_name": "Python 3 (ipykernel)",
   "language": "python",
   "name": "python3"
  },
  "language_info": {
   "codemirror_mode": {
    "name": "ipython",
    "version": 3
   },
   "file_extension": ".py",
   "mimetype": "text/x-python",
   "name": "python",
   "nbconvert_exporter": "python",
   "pygments_lexer": "ipython3",
   "version": "3.11.7"
  }
 },
 "nbformat": 4,
 "nbformat_minor": 5
}
